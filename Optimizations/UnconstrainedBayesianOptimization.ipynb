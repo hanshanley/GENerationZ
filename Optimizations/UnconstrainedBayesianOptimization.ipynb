{
  "nbformat": 4,
  "nbformat_minor": 0,
  "metadata": {
    "colab": {
      "name": "Copy of UnconstrainedBayesianOptimization.ipynb",
      "provenance": [],
      "collapsed_sections": []
    },
    "kernelspec": {
      "name": "python3",
      "display_name": "Python 3"
    },
    "accelerator": "GPU"
  },
  "cells": [
    {
      "cell_type": "code",
      "metadata": {
        "id": "QFp9K6K30hlH",
        "colab_type": "code",
        "colab": {
          "base_uri": "https://localhost:8080/",
          "height": 128
        },
        "outputId": "18d5f9a1-32d3-40a9-a847-d1e86aa6254c"
      },
      "source": [
        "# Initialize drive\n",
        "from google.colab import drive\n",
        "drive.mount('/content/drive', force_remount=True)"
      ],
      "execution_count": null,
      "outputs": [
        {
          "output_type": "stream",
          "text": [
            "Go to this URL in a browser: https://accounts.google.com/o/oauth2/auth?client_id=947318989803-6bn6qk8qdgf4n4g3pfee6491hc0brc4i.apps.googleusercontent.com&redirect_uri=urn%3aietf%3awg%3aoauth%3a2.0%3aoob&response_type=code&scope=email%20https%3a%2f%2fwww.googleapis.com%2fauth%2fdocs.test%20https%3a%2f%2fwww.googleapis.com%2fauth%2fdrive%20https%3a%2f%2fwww.googleapis.com%2fauth%2fdrive.photos.readonly%20https%3a%2f%2fwww.googleapis.com%2fauth%2fpeopleapi.readonly\n",
            "\n",
            "Enter your authorization code:\n",
            "··········\n",
            "Mounted at /content/drive\n"
          ],
          "name": "stdout"
        }
      ]
    },
    {
      "cell_type": "code",
      "metadata": {
        "id": "-5tUhkS80pZX",
        "colab_type": "code",
        "colab": {
          "base_uri": "https://localhost:8080/",
          "height": 72
        },
        "outputId": "78ab0ab6-a15a-4a40-dde2-8aec27014475"
      },
      "source": [
        "# Move to Google Drive \n",
        "%cd drive\n",
        "%cd 'My Drive'\n",
        "%cd 'MSc Stats Dissertation'"
      ],
      "execution_count": null,
      "outputs": [
        {
          "output_type": "stream",
          "text": [
            "/content/drive\n",
            "/content/drive/My Drive\n",
            "/content/drive/My Drive/MSc Stats Dissertation\n"
          ],
          "name": "stdout"
        }
      ]
    },
    {
      "cell_type": "code",
      "metadata": {
        "id": "gS5Gq2ig1KDP",
        "colab_type": "code",
        "colab": {
          "base_uri": "https://localhost:8080/",
          "height": 1000
        },
        "outputId": "156938a3-dc07-46f3-96c7-b983a8d8190a"
      },
      "source": [
        "!pip install GPyOpt\n",
        "!pip install guacamol\n",
        "!pip install selfies\n",
        "!wget -c https://repo.continuum.io/miniconda/Miniconda3-latest-Linux-x86_64.sh\n",
        "!chmod +x Miniconda3-latest-Linux-x86_64.sh\n",
        "!time bash ./Miniconda3-latest-Linux-x86_64.sh -b -f -p /usr/local\n",
        "!time conda install -q -y -c conda-forge rdkit"
      ],
      "execution_count": null,
      "outputs": [
        {
          "output_type": "stream",
          "text": [
            "Collecting GPyOpt\n",
            "\u001b[?25l  Downloading https://files.pythonhosted.org/packages/52/be/669d505416d7e465b2aef7df3b58d590f56468c4f7dc50c91fe91b8a78d9/GPyOpt-1.2.6.tar.gz (56kB)\n",
            "\r\u001b[K     |█████▊                          | 10kB 18.4MB/s eta 0:00:01\r\u001b[K     |███████████▌                    | 20kB 1.7MB/s eta 0:00:01\r\u001b[K     |█████████████████▎              | 30kB 2.1MB/s eta 0:00:01\r\u001b[K     |███████████████████████         | 40kB 2.4MB/s eta 0:00:01\r\u001b[K     |████████████████████████████▉   | 51kB 1.9MB/s eta 0:00:01\r\u001b[K     |████████████████████████████████| 61kB 1.8MB/s \n",
            "\u001b[?25hRequirement already satisfied: numpy>=1.7 in /usr/local/lib/python3.6/dist-packages (from GPyOpt) (1.18.5)\n",
            "Requirement already satisfied: scipy>=0.16 in /usr/local/lib/python3.6/dist-packages (from GPyOpt) (1.4.1)\n",
            "Collecting GPy>=1.8\n",
            "\u001b[?25l  Downloading https://files.pythonhosted.org/packages/67/95/976598f98adbfa918a480cb2d643f93fb555ca5b6c5614f76b69678114c1/GPy-1.9.9.tar.gz (995kB)\n",
            "\u001b[K     |████████████████████████████████| 1.0MB 6.7MB/s \n",
            "\u001b[?25hRequirement already satisfied: six in /usr/local/lib/python3.6/dist-packages (from GPy>=1.8->GPyOpt) (1.15.0)\n",
            "Collecting paramz>=0.9.0\n",
            "\u001b[?25l  Downloading https://files.pythonhosted.org/packages/d8/37/4abbeb78d30f20d3402887f46e6e9f3ef32034a9dea65d243654c82c8553/paramz-0.9.5.tar.gz (71kB)\n",
            "\u001b[K     |████████████████████████████████| 71kB 7.1MB/s \n",
            "\u001b[?25hRequirement already satisfied: decorator>=4.0.10 in /usr/local/lib/python3.6/dist-packages (from paramz>=0.9.0->GPy>=1.8->GPyOpt) (4.4.2)\n",
            "Building wheels for collected packages: GPyOpt, GPy, paramz\n",
            "  Building wheel for GPyOpt (setup.py) ... \u001b[?25l\u001b[?25hdone\n",
            "  Created wheel for GPyOpt: filename=GPyOpt-1.2.6-cp36-none-any.whl size=83623 sha256=a4699ded77b92058ec2e2befeb1634b5b491c964586e6fb56d0809633366a940\n",
            "  Stored in directory: /root/.cache/pip/wheels/b2/00/69/cfa967a125cf25e66f644be6193ad6f0edf231147879ad714f\n",
            "  Building wheel for GPy (setup.py) ... \u001b[?25l\u001b[?25hdone\n",
            "  Created wheel for GPy: filename=GPy-1.9.9-cp36-cp36m-linux_x86_64.whl size=2633902 sha256=bcdb6b0b720aac73ce6537f45fe1afb6b20bb8fce48f22d3d0a44eca440e7220\n",
            "  Stored in directory: /root/.cache/pip/wheels/5d/36/66/2b58860c84c9f2b51615da66bfd6feeddbc4e04d887ff96dfa\n",
            "  Building wheel for paramz (setup.py) ... \u001b[?25l\u001b[?25hdone\n",
            "  Created wheel for paramz: filename=paramz-0.9.5-cp36-none-any.whl size=102552 sha256=0d663bf4baf65f18f46f2883a301687c5cffbf0261009537187b3e9c698d88ad\n",
            "  Stored in directory: /root/.cache/pip/wheels/c8/4a/0e/6e0dc85541825f991c431619e25b870d4b812c911214690cf8\n",
            "Successfully built GPyOpt GPy paramz\n",
            "Installing collected packages: paramz, GPy, GPyOpt\n",
            "Successfully installed GPy-1.9.9 GPyOpt-1.2.6 paramz-0.9.5\n",
            "Collecting guacamol\n",
            "  Downloading https://files.pythonhosted.org/packages/38/e2/c18af79af25377d534e2d67bb7e17b99693c07c12010994480137c49db71/guacamol-0.5.2-py3-none-any.whl\n",
            "Collecting FCD==1.1\n",
            "\u001b[?25l  Downloading https://files.pythonhosted.org/packages/a8/1d/75bf35ec742cbe679bfe373e5a0859a1debbd1bcc15d3cfa0930620438b2/FCD-1.1-py3-none-any.whl (53.1MB)\n",
            "\u001b[K     |████████████████████████████████| 53.1MB 57kB/s \n",
            "\u001b[?25hRequirement already satisfied: tqdm>=4.26.0 in /usr/local/lib/python3.6/dist-packages (from guacamol) (4.41.1)\n",
            "Requirement already satisfied: numpy>=1.15.2 in /usr/local/lib/python3.6/dist-packages (from guacamol) (1.18.5)\n",
            "Requirement already satisfied: scipy>=1.1.0 in /usr/local/lib/python3.6/dist-packages (from guacamol) (1.4.1)\n",
            "Requirement already satisfied: joblib>=0.12.5 in /usr/local/lib/python3.6/dist-packages (from guacamol) (0.16.0)\n",
            "Requirement already satisfied: keras in /usr/local/lib/python3.6/dist-packages (from FCD==1.1->guacamol) (2.3.1)\n",
            "Requirement already satisfied: tensorflow in /usr/local/lib/python3.6/dist-packages (from FCD==1.1->guacamol) (2.2.0)\n",
            "Requirement already satisfied: six>=1.9.0 in /usr/local/lib/python3.6/dist-packages (from keras->FCD==1.1->guacamol) (1.15.0)\n",
            "Requirement already satisfied: pyyaml in /usr/local/lib/python3.6/dist-packages (from keras->FCD==1.1->guacamol) (3.13)\n",
            "Requirement already satisfied: h5py in /usr/local/lib/python3.6/dist-packages (from keras->FCD==1.1->guacamol) (2.10.0)\n",
            "Requirement already satisfied: keras-applications>=1.0.6 in /usr/local/lib/python3.6/dist-packages (from keras->FCD==1.1->guacamol) (1.0.8)\n",
            "Requirement already satisfied: keras-preprocessing>=1.0.5 in /usr/local/lib/python3.6/dist-packages (from keras->FCD==1.1->guacamol) (1.1.2)\n",
            "Requirement already satisfied: google-pasta>=0.1.8 in /usr/local/lib/python3.6/dist-packages (from tensorflow->FCD==1.1->guacamol) (0.2.0)\n",
            "Requirement already satisfied: tensorflow-estimator<2.3.0,>=2.2.0 in /usr/local/lib/python3.6/dist-packages (from tensorflow->FCD==1.1->guacamol) (2.2.0)\n",
            "Requirement already satisfied: wrapt>=1.11.1 in /usr/local/lib/python3.6/dist-packages (from tensorflow->FCD==1.1->guacamol) (1.12.1)\n",
            "Requirement already satisfied: tensorboard<2.3.0,>=2.2.0 in /usr/local/lib/python3.6/dist-packages (from tensorflow->FCD==1.1->guacamol) (2.2.2)\n",
            "Requirement already satisfied: termcolor>=1.1.0 in /usr/local/lib/python3.6/dist-packages (from tensorflow->FCD==1.1->guacamol) (1.1.0)\n",
            "Requirement already satisfied: absl-py>=0.7.0 in /usr/local/lib/python3.6/dist-packages (from tensorflow->FCD==1.1->guacamol) (0.9.0)\n",
            "Requirement already satisfied: gast==0.3.3 in /usr/local/lib/python3.6/dist-packages (from tensorflow->FCD==1.1->guacamol) (0.3.3)\n",
            "Requirement already satisfied: opt-einsum>=2.3.2 in /usr/local/lib/python3.6/dist-packages (from tensorflow->FCD==1.1->guacamol) (3.3.0)\n",
            "Requirement already satisfied: protobuf>=3.8.0 in /usr/local/lib/python3.6/dist-packages (from tensorflow->FCD==1.1->guacamol) (3.12.2)\n",
            "Requirement already satisfied: wheel>=0.26; python_version >= \"3\" in /usr/local/lib/python3.6/dist-packages (from tensorflow->FCD==1.1->guacamol) (0.34.2)\n",
            "Requirement already satisfied: grpcio>=1.8.6 in /usr/local/lib/python3.6/dist-packages (from tensorflow->FCD==1.1->guacamol) (1.30.0)\n",
            "Requirement already satisfied: astunparse==1.6.3 in /usr/local/lib/python3.6/dist-packages (from tensorflow->FCD==1.1->guacamol) (1.6.3)\n",
            "Requirement already satisfied: tensorboard-plugin-wit>=1.6.0 in /usr/local/lib/python3.6/dist-packages (from tensorboard<2.3.0,>=2.2.0->tensorflow->FCD==1.1->guacamol) (1.7.0)\n",
            "Requirement already satisfied: werkzeug>=0.11.15 in /usr/local/lib/python3.6/dist-packages (from tensorboard<2.3.0,>=2.2.0->tensorflow->FCD==1.1->guacamol) (1.0.1)\n",
            "Requirement already satisfied: google-auth-oauthlib<0.5,>=0.4.1 in /usr/local/lib/python3.6/dist-packages (from tensorboard<2.3.0,>=2.2.0->tensorflow->FCD==1.1->guacamol) (0.4.1)\n",
            "Requirement already satisfied: markdown>=2.6.8 in /usr/local/lib/python3.6/dist-packages (from tensorboard<2.3.0,>=2.2.0->tensorflow->FCD==1.1->guacamol) (3.2.2)\n",
            "Requirement already satisfied: google-auth<2,>=1.6.3 in /usr/local/lib/python3.6/dist-packages (from tensorboard<2.3.0,>=2.2.0->tensorflow->FCD==1.1->guacamol) (1.17.2)\n",
            "Requirement already satisfied: setuptools>=41.0.0 in /usr/local/lib/python3.6/dist-packages (from tensorboard<2.3.0,>=2.2.0->tensorflow->FCD==1.1->guacamol) (49.1.0)\n",
            "Requirement already satisfied: requests<3,>=2.21.0 in /usr/local/lib/python3.6/dist-packages (from tensorboard<2.3.0,>=2.2.0->tensorflow->FCD==1.1->guacamol) (2.23.0)\n",
            "Requirement already satisfied: requests-oauthlib>=0.7.0 in /usr/local/lib/python3.6/dist-packages (from google-auth-oauthlib<0.5,>=0.4.1->tensorboard<2.3.0,>=2.2.0->tensorflow->FCD==1.1->guacamol) (1.3.0)\n",
            "Requirement already satisfied: importlib-metadata; python_version < \"3.8\" in /usr/local/lib/python3.6/dist-packages (from markdown>=2.6.8->tensorboard<2.3.0,>=2.2.0->tensorflow->FCD==1.1->guacamol) (1.7.0)\n",
            "Requirement already satisfied: cachetools<5.0,>=2.0.0 in /usr/local/lib/python3.6/dist-packages (from google-auth<2,>=1.6.3->tensorboard<2.3.0,>=2.2.0->tensorflow->FCD==1.1->guacamol) (4.1.1)\n",
            "Requirement already satisfied: pyasn1-modules>=0.2.1 in /usr/local/lib/python3.6/dist-packages (from google-auth<2,>=1.6.3->tensorboard<2.3.0,>=2.2.0->tensorflow->FCD==1.1->guacamol) (0.2.8)\n",
            "Requirement already satisfied: rsa<5,>=3.1.4; python_version >= \"3\" in /usr/local/lib/python3.6/dist-packages (from google-auth<2,>=1.6.3->tensorboard<2.3.0,>=2.2.0->tensorflow->FCD==1.1->guacamol) (4.6)\n",
            "Requirement already satisfied: idna<3,>=2.5 in /usr/local/lib/python3.6/dist-packages (from requests<3,>=2.21.0->tensorboard<2.3.0,>=2.2.0->tensorflow->FCD==1.1->guacamol) (2.10)\n",
            "Requirement already satisfied: certifi>=2017.4.17 in /usr/local/lib/python3.6/dist-packages (from requests<3,>=2.21.0->tensorboard<2.3.0,>=2.2.0->tensorflow->FCD==1.1->guacamol) (2020.6.20)\n",
            "Requirement already satisfied: chardet<4,>=3.0.2 in /usr/local/lib/python3.6/dist-packages (from requests<3,>=2.21.0->tensorboard<2.3.0,>=2.2.0->tensorflow->FCD==1.1->guacamol) (3.0.4)\n",
            "Requirement already satisfied: urllib3!=1.25.0,!=1.25.1,<1.26,>=1.21.1 in /usr/local/lib/python3.6/dist-packages (from requests<3,>=2.21.0->tensorboard<2.3.0,>=2.2.0->tensorflow->FCD==1.1->guacamol) (1.24.3)\n",
            "Requirement already satisfied: oauthlib>=3.0.0 in /usr/local/lib/python3.6/dist-packages (from requests-oauthlib>=0.7.0->google-auth-oauthlib<0.5,>=0.4.1->tensorboard<2.3.0,>=2.2.0->tensorflow->FCD==1.1->guacamol) (3.1.0)\n",
            "Requirement already satisfied: zipp>=0.5 in /usr/local/lib/python3.6/dist-packages (from importlib-metadata; python_version < \"3.8\"->markdown>=2.6.8->tensorboard<2.3.0,>=2.2.0->tensorflow->FCD==1.1->guacamol) (3.1.0)\n",
            "Requirement already satisfied: pyasn1<0.5.0,>=0.4.6 in /usr/local/lib/python3.6/dist-packages (from pyasn1-modules>=0.2.1->google-auth<2,>=1.6.3->tensorboard<2.3.0,>=2.2.0->tensorflow->FCD==1.1->guacamol) (0.4.8)\n",
            "Installing collected packages: FCD, guacamol\n",
            "Successfully installed FCD-1.1 guacamol-0.5.2\n",
            "--2020-07-27 07:33:38--  https://repo.continuum.io/miniconda/Miniconda3-latest-Linux-x86_64.sh\n",
            "Resolving repo.continuum.io (repo.continuum.io)... 104.18.201.79, 104.18.200.79, 2606:4700::6812:c84f, ...\n",
            "Connecting to repo.continuum.io (repo.continuum.io)|104.18.201.79|:443... connected.\n",
            "HTTP request sent, awaiting response... 301 Moved Permanently\n",
            "Location: https://repo.anaconda.com/miniconda/Miniconda3-latest-Linux-x86_64.sh [following]\n",
            "--2020-07-27 07:33:38--  https://repo.anaconda.com/miniconda/Miniconda3-latest-Linux-x86_64.sh\n",
            "Resolving repo.anaconda.com (repo.anaconda.com)... 104.16.130.3, 104.16.131.3, 2606:4700::6810:8203, ...\n",
            "Connecting to repo.anaconda.com (repo.anaconda.com)|104.16.130.3|:443... connected.\n",
            "HTTP request sent, awaiting response... 416 Requested Range Not Satisfiable\n",
            "\n",
            "    The file is already fully retrieved; nothing to do.\n",
            "\n",
            "PREFIX=/usr/local\n",
            "WARNING: md5sum mismatch of tar archive\n",
            "expected: 6e267728e74a7089e59c7d8c59d20e6b\n",
            "     got: ebb76490dfe6ce63b1dec5392631d80d  -\n",
            "Unpacking payload ...\n",
            "Collecting package metadata (current_repodata.json): - \b\b\\ \b\b| \b\bdone\n",
            "Solving environment: - \b\b\\ \b\bdone\n",
            "\n",
            "## Package Plan ##\n",
            "\n",
            "  environment location: /usr/local\n",
            "\n",
            "  added / updated specs:\n",
            "    - _libgcc_mutex==0.1=main\n",
            "    - asn1crypto==1.3.0=py37_0\n",
            "    - ca-certificates==2020.1.1=0\n",
            "    - certifi==2019.11.28=py37_0\n",
            "    - cffi==1.14.0=py37h2e261b9_0\n",
            "    - chardet==3.0.4=py37_1003\n",
            "    - conda-package-handling==1.6.0=py37h7b6447c_0\n",
            "    - conda==4.8.2=py37_0\n",
            "    - cryptography==2.8=py37h1ba5d50_0\n",
            "    - idna==2.8=py37_0\n",
            "    - ld_impl_linux-64==2.33.1=h53a641e_7\n",
            "    - libedit==3.1.20181209=hc058e9b_0\n",
            "    - libffi==3.2.1=hd88cf55_4\n",
            "    - libgcc-ng==9.1.0=hdf63c60_0\n",
            "    - libstdcxx-ng==9.1.0=hdf63c60_0\n",
            "    - ncurses==6.2=he6710b0_0\n",
            "    - openssl==1.1.1d=h7b6447c_4\n",
            "    - pip==20.0.2=py37_1\n",
            "    - pycosat==0.6.3=py37h7b6447c_0\n",
            "    - pycparser==2.19=py37_0\n",
            "    - pyopenssl==19.1.0=py37_0\n",
            "    - pysocks==1.7.1=py37_0\n",
            "    - python==3.7.6=h0371630_2\n",
            "    - readline==7.0=h7b6447c_5\n",
            "    - requests==2.22.0=py37_1\n",
            "    - ruamel_yaml==0.15.87=py37h7b6447c_0\n",
            "    - setuptools==45.2.0=py37_0\n",
            "    - six==1.14.0=py37_0\n",
            "    - sqlite==3.31.1=h7b6447c_0\n",
            "    - tk==8.6.8=hbc83047_0\n",
            "    - tqdm==4.42.1=py_0\n",
            "    - urllib3==1.25.8=py37_0\n",
            "    - wheel==0.34.2=py37_0\n",
            "    - xz==5.2.4=h14c3975_4\n",
            "    - yaml==0.1.7=had09818_2\n",
            "    - zlib==1.2.11=h7b6447c_3\n",
            "\n",
            "\n",
            "The following NEW packages will be INSTALLED:\n",
            "\n",
            "  _libgcc_mutex      pkgs/main/linux-64::_libgcc_mutex-0.1-main\n",
            "  asn1crypto         pkgs/main/linux-64::asn1crypto-1.3.0-py37_0\n",
            "  ca-certificates    pkgs/main/linux-64::ca-certificates-2020.1.1-0\n",
            "  certifi            pkgs/main/linux-64::certifi-2019.11.28-py37_0\n",
            "  cffi               pkgs/main/linux-64::cffi-1.14.0-py37h2e261b9_0\n",
            "  chardet            pkgs/main/linux-64::chardet-3.0.4-py37_1003\n",
            "  conda              pkgs/main/linux-64::conda-4.8.2-py37_0\n",
            "  conda-package-han~ pkgs/main/linux-64::conda-package-handling-1.6.0-py37h7b6447c_0\n",
            "  cryptography       pkgs/main/linux-64::cryptography-2.8-py37h1ba5d50_0\n",
            "  idna               pkgs/main/linux-64::idna-2.8-py37_0\n",
            "  ld_impl_linux-64   pkgs/main/linux-64::ld_impl_linux-64-2.33.1-h53a641e_7\n",
            "  libedit            pkgs/main/linux-64::libedit-3.1.20181209-hc058e9b_0\n",
            "  libffi             pkgs/main/linux-64::libffi-3.2.1-hd88cf55_4\n",
            "  libgcc-ng          pkgs/main/linux-64::libgcc-ng-9.1.0-hdf63c60_0\n",
            "  libstdcxx-ng       pkgs/main/linux-64::libstdcxx-ng-9.1.0-hdf63c60_0\n",
            "  ncurses            pkgs/main/linux-64::ncurses-6.2-he6710b0_0\n",
            "  openssl            pkgs/main/linux-64::openssl-1.1.1d-h7b6447c_4\n",
            "  pip                pkgs/main/linux-64::pip-20.0.2-py37_1\n",
            "  pycosat            pkgs/main/linux-64::pycosat-0.6.3-py37h7b6447c_0\n",
            "  pycparser          pkgs/main/linux-64::pycparser-2.19-py37_0\n",
            "  pyopenssl          pkgs/main/linux-64::pyopenssl-19.1.0-py37_0\n",
            "  pysocks            pkgs/main/linux-64::pysocks-1.7.1-py37_0\n",
            "  python             pkgs/main/linux-64::python-3.7.6-h0371630_2\n",
            "  readline           pkgs/main/linux-64::readline-7.0-h7b6447c_5\n",
            "  requests           pkgs/main/linux-64::requests-2.22.0-py37_1\n",
            "  ruamel_yaml        pkgs/main/linux-64::ruamel_yaml-0.15.87-py37h7b6447c_0\n",
            "  setuptools         pkgs/main/linux-64::setuptools-45.2.0-py37_0\n",
            "  six                pkgs/main/linux-64::six-1.14.0-py37_0\n",
            "  sqlite             pkgs/main/linux-64::sqlite-3.31.1-h7b6447c_0\n",
            "  tk                 pkgs/main/linux-64::tk-8.6.8-hbc83047_0\n",
            "  tqdm               pkgs/main/noarch::tqdm-4.42.1-py_0\n",
            "  urllib3            pkgs/main/linux-64::urllib3-1.25.8-py37_0\n",
            "  wheel              pkgs/main/linux-64::wheel-0.34.2-py37_0\n",
            "  xz                 pkgs/main/linux-64::xz-5.2.4-h14c3975_4\n",
            "  yaml               pkgs/main/linux-64::yaml-0.1.7-had09818_2\n",
            "  zlib               pkgs/main/linux-64::zlib-1.2.11-h7b6447c_3\n",
            "\n",
            "\n",
            "Preparing transaction: / \b\b- \b\b\\ \b\b| \b\bdone\n",
            "Executing transaction: - \b\b\\ \b\b| \b\b/ \b\b- \b\b\\ \b\b| \b\b/ \b\b- \b\b\\ \b\b| \b\b/ \b\b- \b\b\\ \b\b| \b\b/ \b\b- \b\bdone\n",
            "installation finished.\n",
            "WARNING:\n",
            "    You currently have a PYTHONPATH environment variable set. This may cause\n",
            "    unexpected behavior when running the Python interpreter in Miniconda3.\n",
            "    For best results, please verify that your PYTHONPATH only points to\n",
            "    directories of packages that are compatible with the Python interpreter\n",
            "    in Miniconda3: /usr/local\n",
            "\n",
            "real\t0m27.938s\n",
            "user\t0m8.358s\n",
            "sys\t0m4.789s\n",
            "Collecting package metadata (current_repodata.json): ...working... done\n",
            "Solving environment: ...working... done\n",
            "\n",
            "## Package Plan ##\n",
            "\n",
            "  environment location: /usr/local\n",
            "\n",
            "  added / updated specs:\n",
            "    - rdkit\n",
            "\n",
            "\n",
            "The following packages will be downloaded:\n",
            "\n",
            "    package                    |            build\n",
            "    ---------------------------|-----------------\n",
            "    boost-1.72.0               |   py37h9de70de_0         316 KB  conda-forge\n",
            "    boost-cpp-1.72.0           |       h8e57a91_0        21.8 MB  conda-forge\n",
            "    bzip2-1.0.8                |       h516909a_2         396 KB  conda-forge\n",
            "    ca-certificates-2020.6.20  |       hecda079_0         145 KB  conda-forge\n",
            "    cairo-1.16.0               |    hcf35c78_1003         1.5 MB  conda-forge\n",
            "    certifi-2020.6.20          |   py37hc8dfbb8_0         151 KB  conda-forge\n",
            "    conda-4.8.3                |   py37hc8dfbb8_1         3.0 MB  conda-forge\n",
            "    fontconfig-2.13.1          |    h86ecdb6_1001         340 KB  conda-forge\n",
            "    freetype-2.10.2            |       he06d7ca_0         905 KB  conda-forge\n",
            "    gettext-0.19.8.1           |    hc5be6a0_1002         3.6 MB  conda-forge\n",
            "    glib-2.65.0                |       h6f030ca_0         3.5 MB  conda-forge\n",
            "    icu-64.2                   |       he1b5a44_1        12.6 MB  conda-forge\n",
            "    jpeg-9d                    |       h516909a_0         266 KB  conda-forge\n",
            "    libblas-3.8.0              |      17_openblas          11 KB  conda-forge\n",
            "    libcblas-3.8.0             |      17_openblas          11 KB  conda-forge\n",
            "    libgfortran-ng-7.5.0       |      hdf63c60_10         1.7 MB  conda-forge\n",
            "    libiconv-1.15              |    h516909a_1006         2.0 MB  conda-forge\n",
            "    liblapack-3.8.0            |      17_openblas          11 KB  conda-forge\n",
            "    libopenblas-0.3.10         |pthreads_hb3c22a3_4         7.8 MB  conda-forge\n",
            "    libpng-1.6.37              |       hed695b0_1         308 KB  conda-forge\n",
            "    libtiff-4.0.10             |    h9022e91_1002         555 KB  conda-forge\n",
            "    libuuid-2.32.1             |    h14c3975_1000          26 KB  conda-forge\n",
            "    libxcb-1.13                |    h14c3975_1002         396 KB  conda-forge\n",
            "    libxml2-2.9.10             |       hee79883_0         1.3 MB  conda-forge\n",
            "    numpy-1.19.1               |   py37h8960a57_0         5.2 MB  conda-forge\n",
            "    olefile-0.46               |             py_0          31 KB  conda-forge\n",
            "    openssl-1.1.1g             |       h516909a_0         2.1 MB  conda-forge\n",
            "    pandas-1.0.5               |   py37h0da4684_0        10.1 MB  conda-forge\n",
            "    pcre-8.44                  |       he1b5a44_0         261 KB  conda-forge\n",
            "    pillow-6.2.1               |   py37h6b7be26_0         637 KB  conda-forge\n",
            "    pixman-0.38.0              |    h516909a_1003         594 KB  conda-forge\n",
            "    pthread-stubs-0.4          |    h14c3975_1001           5 KB  conda-forge\n",
            "    pycairo-1.19.1             |   py37h01af8b0_3          77 KB  conda-forge\n",
            "    python-dateutil-2.8.1      |             py_0         220 KB  conda-forge\n",
            "    python_abi-3.7             |          1_cp37m           4 KB  conda-forge\n",
            "    pytz-2020.1                |     pyh9f0ad1d_0         227 KB  conda-forge\n",
            "    rdkit-2020.03.4            |   py37hdd87690_0        24.6 MB  conda-forge\n",
            "    tk-8.6.10                  |       hed695b0_0         3.2 MB  conda-forge\n",
            "    xorg-kbproto-1.0.7         |    h14c3975_1002          26 KB  conda-forge\n",
            "    xorg-libice-1.0.10         |       h516909a_0          57 KB  conda-forge\n",
            "    xorg-libsm-1.2.3           |    h84519dc_1000          25 KB  conda-forge\n",
            "    xorg-libx11-1.6.9          |       h516909a_0         918 KB  conda-forge\n",
            "    xorg-libxau-1.0.9          |       h14c3975_0          13 KB  conda-forge\n",
            "    xorg-libxdmcp-1.1.3        |       h516909a_0          18 KB  conda-forge\n",
            "    xorg-libxext-1.3.4         |       h516909a_0          51 KB  conda-forge\n",
            "    xorg-libxrender-0.9.10     |    h516909a_1002          31 KB  conda-forge\n",
            "    xorg-renderproto-0.11.1    |    h14c3975_1002           8 KB  conda-forge\n",
            "    xorg-xextproto-7.3.0       |    h14c3975_1002          27 KB  conda-forge\n",
            "    xorg-xproto-7.0.31         |    h14c3975_1007          72 KB  conda-forge\n",
            "    zstd-1.3.3                 |                1        1023 KB  conda-forge\n",
            "    ------------------------------------------------------------\n",
            "                                           Total:       112.0 MB\n",
            "\n",
            "The following NEW packages will be INSTALLED:\n",
            "\n",
            "  boost              conda-forge/linux-64::boost-1.72.0-py37h9de70de_0\n",
            "  boost-cpp          conda-forge/linux-64::boost-cpp-1.72.0-h8e57a91_0\n",
            "  bzip2              conda-forge/linux-64::bzip2-1.0.8-h516909a_2\n",
            "  cairo              conda-forge/linux-64::cairo-1.16.0-hcf35c78_1003\n",
            "  fontconfig         conda-forge/linux-64::fontconfig-2.13.1-h86ecdb6_1001\n",
            "  freetype           conda-forge/linux-64::freetype-2.10.2-he06d7ca_0\n",
            "  gettext            conda-forge/linux-64::gettext-0.19.8.1-hc5be6a0_1002\n",
            "  glib               conda-forge/linux-64::glib-2.65.0-h6f030ca_0\n",
            "  icu                conda-forge/linux-64::icu-64.2-he1b5a44_1\n",
            "  jpeg               conda-forge/linux-64::jpeg-9d-h516909a_0\n",
            "  libblas            conda-forge/linux-64::libblas-3.8.0-17_openblas\n",
            "  libcblas           conda-forge/linux-64::libcblas-3.8.0-17_openblas\n",
            "  libgfortran-ng     conda-forge/linux-64::libgfortran-ng-7.5.0-hdf63c60_10\n",
            "  libiconv           conda-forge/linux-64::libiconv-1.15-h516909a_1006\n",
            "  liblapack          conda-forge/linux-64::liblapack-3.8.0-17_openblas\n",
            "  libopenblas        conda-forge/linux-64::libopenblas-0.3.10-pthreads_hb3c22a3_4\n",
            "  libpng             conda-forge/linux-64::libpng-1.6.37-hed695b0_1\n",
            "  libtiff            conda-forge/linux-64::libtiff-4.0.10-h9022e91_1002\n",
            "  libuuid            conda-forge/linux-64::libuuid-2.32.1-h14c3975_1000\n",
            "  libxcb             conda-forge/linux-64::libxcb-1.13-h14c3975_1002\n",
            "  libxml2            conda-forge/linux-64::libxml2-2.9.10-hee79883_0\n",
            "  numpy              conda-forge/linux-64::numpy-1.19.1-py37h8960a57_0\n",
            "  olefile            conda-forge/noarch::olefile-0.46-py_0\n",
            "  pandas             conda-forge/linux-64::pandas-1.0.5-py37h0da4684_0\n",
            "  pcre               conda-forge/linux-64::pcre-8.44-he1b5a44_0\n",
            "  pillow             conda-forge/linux-64::pillow-6.2.1-py37h6b7be26_0\n",
            "  pixman             conda-forge/linux-64::pixman-0.38.0-h516909a_1003\n",
            "  pthread-stubs      conda-forge/linux-64::pthread-stubs-0.4-h14c3975_1001\n",
            "  pycairo            conda-forge/linux-64::pycairo-1.19.1-py37h01af8b0_3\n",
            "  python-dateutil    conda-forge/noarch::python-dateutil-2.8.1-py_0\n",
            "  python_abi         conda-forge/linux-64::python_abi-3.7-1_cp37m\n",
            "  pytz               conda-forge/noarch::pytz-2020.1-pyh9f0ad1d_0\n",
            "  rdkit              conda-forge/linux-64::rdkit-2020.03.4-py37hdd87690_0\n",
            "  xorg-kbproto       conda-forge/linux-64::xorg-kbproto-1.0.7-h14c3975_1002\n",
            "  xorg-libice        conda-forge/linux-64::xorg-libice-1.0.10-h516909a_0\n",
            "  xorg-libsm         conda-forge/linux-64::xorg-libsm-1.2.3-h84519dc_1000\n",
            "  xorg-libx11        conda-forge/linux-64::xorg-libx11-1.6.9-h516909a_0\n",
            "  xorg-libxau        conda-forge/linux-64::xorg-libxau-1.0.9-h14c3975_0\n",
            "  xorg-libxdmcp      conda-forge/linux-64::xorg-libxdmcp-1.1.3-h516909a_0\n",
            "  xorg-libxext       conda-forge/linux-64::xorg-libxext-1.3.4-h516909a_0\n",
            "  xorg-libxrender    conda-forge/linux-64::xorg-libxrender-0.9.10-h516909a_1002\n",
            "  xorg-renderproto   conda-forge/linux-64::xorg-renderproto-0.11.1-h14c3975_1002\n",
            "  xorg-xextproto     conda-forge/linux-64::xorg-xextproto-7.3.0-h14c3975_1002\n",
            "  xorg-xproto        conda-forge/linux-64::xorg-xproto-7.0.31-h14c3975_1007\n",
            "  zstd               conda-forge/linux-64::zstd-1.3.3-1\n",
            "\n",
            "The following packages will be UPDATED:\n",
            "\n",
            "  ca-certificates     pkgs/main::ca-certificates-2020.1.1-0 --> conda-forge::ca-certificates-2020.6.20-hecda079_0\n",
            "  certifi              pkgs/main::certifi-2019.11.28-py37_0 --> conda-forge::certifi-2020.6.20-py37hc8dfbb8_0\n",
            "  conda                       pkgs/main::conda-4.8.2-py37_0 --> conda-forge::conda-4.8.3-py37hc8dfbb8_1\n",
            "  openssl              pkgs/main::openssl-1.1.1d-h7b6447c_4 --> conda-forge::openssl-1.1.1g-h516909a_0\n",
            "  tk                         pkgs/main::tk-8.6.8-hbc83047_0 --> conda-forge::tk-8.6.10-hed695b0_0\n",
            "\n",
            "\n",
            "Preparing transaction: ...working... done\n",
            "Verifying transaction: ...working... done\n",
            "Executing transaction: ...working... done\n",
            "\n",
            "real\t0m47.840s\n",
            "user\t0m41.275s\n",
            "sys\t0m5.249s\n"
          ],
          "name": "stdout"
        }
      ]
    },
    {
      "cell_type": "code",
      "metadata": {
        "id": "UCnRGMFkGRcW",
        "colab_type": "code",
        "colab": {}
      },
      "source": [
        "import sys\n",
        "import os\n",
        "sys.path.append('/usr/local/lib/python3.7/site-packages/')"
      ],
      "execution_count": null,
      "outputs": []
    },
    {
      "cell_type": "code",
      "metadata": {
        "id": "zVi3vVYl0uOO",
        "colab_type": "code",
        "colab": {}
      },
      "source": [
        "import numpy as np\n",
        "import tensorflow as tf\n",
        "import tensorflow.keras.backend as K\n",
        "import tensorflow.keras as keras\n",
        "import pandas as pd\n",
        "import math\n",
        "import tensorflow.keras.layers as layers\n",
        "import time\n",
        "import numpy as np\n",
        "import matplotlib.pyplot as plt\n",
        "from matplotlib.colors import LogNorm\n",
        "from scipy.stats import multivariate_normal\n",
        "from selfies import encoder, decoder\n",
        "import rdkit"
      ],
      "execution_count": null,
      "outputs": []
    },
    {
      "cell_type": "code",
      "metadata": {
        "id": "MzbYCKYwAgo_",
        "colab_type": "code",
        "colab": {}
      },
      "source": [
        "from mpl_toolkits.mplot3d import Axes3D\n",
        "import matplotlib.pyplot as plt\n",
        "from matplotlib import cm\n",
        "from matplotlib.ticker import LinearLocator, FormatStrFormatter\n",
        "import numpy as np\n",
        "from numpy.random import multivariate_normal\n",
        "import GPyOpt\n",
        "from GPyOpt.methods import BayesianOptimization\n",
        "from IPython.display import SVG, display\n",
        "from rdkit.Chem import AllChem as Chem\n",
        "from rdkit.Chem import PandasTools"
      ],
      "execution_count": null,
      "outputs": []
    },
    {
      "cell_type": "code",
      "metadata": {
        "id": "BitYeFrn0vXR",
        "colab_type": "code",
        "colab": {}
      },
      "source": [
        "import GANS.conv_smiles_vae as conv_smiles_vae\n",
        "import GANS.implicitvae as implicitvae\n",
        "import GANS.proppred_deep_conv_smiles_vae as proppred_vae\n",
        "import GANS.decoderTransformerLatent as decoderTransformerLatent\n",
        "import GANS.ic50vae as ic50vae\n",
        "import GPyOpt\n",
        "from GPyOpt.methods import BayesianOptimization"
      ],
      "execution_count": null,
      "outputs": []
    },
    {
      "cell_type": "code",
      "metadata": {
        "id": "CykenqZwGGhk",
        "colab_type": "code",
        "colab": {}
      },
      "source": [
        "from typing import List\n",
        "from guacamol.distribution_matching_generator import DistributionMatchingGenerator\n",
        "class MockGenerator(DistributionMatchingGenerator):\n",
        "    \"\"\"\n",
        "    Mock generator that returns pre-defined molecules,\n",
        "    possibly split in several calls\n",
        "    \"\"\"\n",
        "\n",
        "    def __init__(self, molecules: List[str]) -> None:\n",
        "        self.molecules = molecules\n",
        "        self.cursor = 0\n",
        "\n",
        "    def generate(self, number_samples: int) -> List[str]:\n",
        "        end = self.cursor + number_samples\n",
        "\n",
        "        sampled_molecules = self.molecules[self.cursor:end]\n",
        "        self.cursor = end\n",
        "        return sampled_molecules"
      ],
      "execution_count": null,
      "outputs": []
    },
    {
      "cell_type": "code",
      "metadata": {
        "id": "EoOF8PhDGJYY",
        "colab_type": "code",
        "colab": {}
      },
      "source": [
        "from guacamol.distribution_learning_benchmark import ValidityBenchmark, \\\n",
        "    UniquenessBenchmark, NoveltyBenchmark, KLDivBenchmark"
      ],
      "execution_count": null,
      "outputs": []
    },
    {
      "cell_type": "code",
      "metadata": {
        "id": "5OoGDcRS62hD",
        "colab_type": "code",
        "colab": {}
      },
      "source": [
        "train_smiles_X = np.load('./vocab/train_selfies_X.npy',allow_pickle=True)\n",
        "vocab =np.load('./vocab/selfies_vocab.npy',allow_pickle=True)\n",
        "vocab_index = np.load('./vocab/selfies_vocab_index.npy',allow_pickle=True)\n",
        "vocab = dict(vocab.ravel()[0])\n",
        "vocab_index = dict(vocab_index.ravel()[0])"
      ],
      "execution_count": null,
      "outputs": []
    },
    {
      "cell_type": "code",
      "metadata": {
        "id": "7i6HCc5AGQ3H",
        "colab_type": "code",
        "colab": {}
      },
      "source": [
        "## Neccesary CONSTANTS\n",
        "BATCH_SIZE = 256\n",
        "VOCAB_SIZE = len(vocab_index)\n",
        "EPOCHS = 10\n",
        "LEARNING_RATE =  1e-4\n",
        "PAD_SIZE = 250\n",
        "DROP_OUT= 0.2\n",
        "EMBEDDING_DIM = 192  ## Embedding dim of the characters\n",
        "HIDDEN_DIM = 256\n",
        "DROPOUT = 0.2\n",
        "TRAIN = False\n",
        "LATENT_DIM = 64\n",
        "DEEP = False\n",
        "SELFIES = True\n",
        "IMPLICIT = False\n",
        "PROPPRED = False \n",
        "TRANSFORMER_DECODE = True\n",
        "MAX_LEN = PAD_SIZE-1"
      ],
      "execution_count": null,
      "outputs": []
    },
    {
      "cell_type": "code",
      "metadata": {
        "id": "wXyqQsSp7CPJ",
        "colab_type": "code",
        "colab": {}
      },
      "source": [
        "gene_expressions = np.load('gene_expressions.npy')\n",
        "ic50 = np.load('ic50.npy')\n",
        "smiles_pairs = np.load('smiles_pairs.npy')\n",
        "sites = np.load('sites.npy')\n",
        "cell_lines = np.load('cell_lines.npy')\n",
        "histologies = np.load('histologies.npy')"
      ],
      "execution_count": null,
      "outputs": []
    },
    {
      "cell_type": "code",
      "metadata": {
        "id": "wJd1yPFB7rwa",
        "colab_type": "code",
        "colab": {}
      },
      "source": [
        "## Get random particular cell line\n",
        "indices = []\n",
        "index = 0 \n",
        "for i in histologies:\n",
        "  if  cell_lines[index] =='SHP-77':\n",
        "    indices.append(index)\n",
        "  index+=1\n",
        "sampled_smiles = np.array(smiles_pairs)[indices]\n",
        "sampled_ic50 = ic50[indices]\n",
        "sampled_gene_expressions = gene_expressions[indices]"
      ],
      "execution_count": null,
      "outputs": []
    },
    {
      "cell_type": "code",
      "metadata": {
        "id": "1hiArok3PzFX",
        "colab_type": "code",
        "colab": {}
      },
      "source": [
        "smiles_pairs_enc = []\n",
        "for smiles in  sampled_smiles:\n",
        "  smiles_pairs_enc.append(encoder(smiles))\n",
        "sampled_smiles = np.array(smiles_pairs_enc)"
      ],
      "execution_count": null,
      "outputs": []
    },
    {
      "cell_type": "code",
      "metadata": {
        "id": "9abmRCcZFhe7",
        "colab_type": "code",
        "colab": {}
      },
      "source": [
        "## Takes processed smiles/deep smiles and returns the tokenized \n",
        "## versions of the smiles or deep semiles\n",
        "## Note: Run replace halogens and replace percentages\n",
        "## before running this method \n",
        "def tokenize_smiles(smiles):\n",
        "  char_list = list(smiles)\n",
        "  tokenized= []\n",
        "  tokenized.append('<BOS>')\n",
        "  i = 0 \n",
        "  while i < len(char_list):\n",
        "    char = char_list[i]\n",
        "    tokenized.append(char)\n",
        "    i= i+1\n",
        "  tokenized.append('<EOS>')\n",
        "  return tokenized"
      ],
      "execution_count": null,
      "outputs": []
    },
    {
      "cell_type": "code",
      "metadata": {
        "id": "EZwBNXHMRzdD",
        "colab_type": "code",
        "colab": {}
      },
      "source": [
        "def integer_encode_selfies(selfies,vocab_dict):\n",
        "  selfies_enc = []\n",
        "  for char in selfies:\n",
        "    selfies_enc.append(vocab_dict[char])\n",
        "  return selfies_enc"
      ],
      "execution_count": null,
      "outputs": []
    },
    {
      "cell_type": "code",
      "metadata": {
        "id": "efxWnGLVFiek",
        "colab_type": "code",
        "colab": {}
      },
      "source": [
        "def integer_encode(smiles,vocab_dict):\n",
        "  smiles_enc = []\n",
        "  for char in smiles:\n",
        "    smiles_enc.append(vocab_dict[char])\n",
        "  return smiles_enc"
      ],
      "execution_count": null,
      "outputs": []
    },
    {
      "cell_type": "code",
      "metadata": {
        "id": "6jpHCWAyFppQ",
        "colab_type": "code",
        "colab": {}
      },
      "source": [
        "import re\n",
        "## replace Br and Cl with single letters\n",
        "def replace_halogens(string):\n",
        "  br = re.compile('Br')\n",
        "  cl = re.compile('Cl')\n",
        "  string = br.sub('R', string)\n",
        "  string = cl.sub('L', string)\n",
        "  return string"
      ],
      "execution_count": null,
      "outputs": []
    },
    {
      "cell_type": "code",
      "metadata": {
        "id": "9ojFSMc4I8as",
        "colab_type": "code",
        "colab": {}
      },
      "source": [
        "import re\n",
        "## replace Br and Cl with single letters\n",
        "def replace_halogens_inv(string):\n",
        "  br = re.compile('R')\n",
        "  cl = re.compile('L')\n",
        "  string = br.sub('Br', string)\n",
        "  string = cl.sub('Cl', string)\n",
        "  return string"
      ],
      "execution_count": null,
      "outputs": []
    },
    {
      "cell_type": "code",
      "metadata": {
        "id": "_9TDLQn9Sf9M",
        "colab_type": "code",
        "colab": {}
      },
      "source": [
        "## Takes processed selfies smiles and returns the tokenized \n",
        "## versions of the selfies\n",
        "def tokenize_selfies(selfies):\n",
        "  char_list = split_selfie(selfies)\n",
        "  tokenized= []\n",
        "  tokenized.append('<BOS>')\n",
        "  i = 0 \n",
        "  while i < len(char_list):\n",
        "    char = char_list[i]\n",
        "    tokenized.append(char)\n",
        "    i = i+1\n",
        "  tokenized.append('<EOS>')\n",
        "  return tokenized"
      ],
      "execution_count": null,
      "outputs": []
    },
    {
      "cell_type": "code",
      "metadata": {
        "id": "KoXUUY_HNsq0",
        "colab_type": "code",
        "colab": {}
      },
      "source": [
        "## Splits the selfies <molecule> into a list of character strings.\n",
        "def split_selfie(molecule):\n",
        "  return re.findall(r'\\[.*?\\]|\\.', molecule)"
      ],
      "execution_count": null,
      "outputs": []
    },
    {
      "cell_type": "code",
      "metadata": {
        "id": "R8rTQEe4Fc8F",
        "colab_type": "code",
        "colab": {}
      },
      "source": [
        "smile_pair_tokens = []\n",
        "for smiles in sampled_smiles:\n",
        "  if SELFIES:\n",
        "    smile_pair_tokens.append(tokenize_selfies(smiles))\n",
        "  else:\n",
        "    smiles = replace_halogens(smiles)\n",
        "    smile_pair_tokens.append(tokenize_smiles(smiles))\n",
        "smile_pair_tokens = np.array(smile_pair_tokens)"
      ],
      "execution_count": null,
      "outputs": []
    },
    {
      "cell_type": "code",
      "metadata": {
        "id": "LhlUK9teFfRw",
        "colab_type": "code",
        "colab": {}
      },
      "source": [
        "smiles_ordered = []\n",
        "for smiles in smile_pair_tokens:\n",
        "  if SELFIES:\n",
        "    smiles_ordered.append(integer_encode_selfies(smiles,vocab))\n",
        "  else:\n",
        "    smiles_ordered.append(integer_encode(smiles,vocab))\n",
        "smiles_ordered = np.array(smiles_ordered)\n",
        "smiles_ordered = tf.keras.preprocessing.sequence.pad_sequences(smiles_ordered,maxlen = PAD_SIZE,padding='post')"
      ],
      "execution_count": null,
      "outputs": []
    },
    {
      "cell_type": "code",
      "metadata": {
        "id": "Hvi8D-VnGKL-",
        "colab_type": "code",
        "colab": {}
      },
      "source": [
        "import GANS.renewed_smiles_vae as conv_smiles_vae\n",
        "smile_vae = conv_smiles_vae.SMILE_VAE(vocab_size= VOCAB_SIZE,embedding_dim=EMBEDDING_DIM, max_len= MAX_LEN, \n",
        "                     latent_dim = LATENT_DIM, recurrent_dropout = DROP_OUT,dropout_rate= DROP_OUT)\n",
        "if SELFIES:\n",
        "  smile_vae.load_weights('selifes_conv_vae_weights2')\n",
        "else:\n",
        "  smile_vae.load_weights('smiles_conv_vae_weights2')"
      ],
      "execution_count": null,
      "outputs": []
    },
    {
      "cell_type": "code",
      "metadata": {
        "id": "4qXHS971NqMJ",
        "colab_type": "code",
        "colab": {}
      },
      "source": [
        "smile_vae = ic50vae.SMILE_VAE(vocab_size= VOCAB_SIZE,embedding_dim=EMBEDDING_DIM, max_len= MAX_LEN,\n",
        "                     latent_dim = LATENT_DIM, recurrent_dropout = DROP_OUT,dropout_rate= DROP_OUT)"
      ],
      "execution_count": null,
      "outputs": []
    },
    {
      "cell_type": "code",
      "metadata": {
        "id": "6mg13nWtNqXM",
        "colab_type": "code",
        "colab": {}
      },
      "source": [
        "if SELFIES:\n",
        "  smile_vae.load_weights('ic50g_selfies_conv_vae_weights')\n",
        "else:\n",
        "  smile_vae.load_weights('ic50g_smile_conv_vae_weights')"
      ],
      "execution_count": null,
      "outputs": []
    },
    {
      "cell_type": "code",
      "metadata": {
        "id": "7yztWnRGE-X6",
        "colab_type": "code",
        "colab": {}
      },
      "source": [
        "## Get latent encodings \n",
        "sampled_smiles =[]\n",
        "for smiles in smiles_ordered:\n",
        "  h, z_mean,z_log_var  = smile_vae.encoder(np.array(smiles[:-1]).reshape(1,MAX_LEN,))\n",
        "  sampled_smiles.append(z_mean)"
      ],
      "execution_count": null,
      "outputs": []
    },
    {
      "cell_type": "code",
      "metadata": {
        "id": "FJyDINAA3IGh",
        "colab_type": "code",
        "colab": {}
      },
      "source": [
        "from sklearn.decomposition import KernelPCA\n",
        "NUM_SAMPLED = len(sampled_smiles)\n",
        "sampled_points = np.array(sampled_smiles).reshape(NUM_SAMPLED,LATENT_DIM)\n",
        "PCA = KernelPCA(n_components=2, kernel=\"linear\")\n",
        "data_transformed = PCA.fit_transform(sampled_points)\n",
        "from sklearn.preprocessing import MinMaxScaler\n",
        "scaler1 = MinMaxScaler()\n",
        "scaler1.fit(np.array(data_transformed[:,0]).reshape(-1,1))\n",
        "scaler2 = MinMaxScaler()\n",
        "scaler2.fit(np.array(data_transformed[:,1]).reshape(-1,1))\n",
        "\n",
        "plot  = {0: [x[0].reshape(1,-1) for x in data_transformed],\n",
        "             1: [x[1].reshape(1,-1) for x in data_transformed]}"
      ],
      "execution_count": null,
      "outputs": []
    },
    {
      "cell_type": "code",
      "metadata": {
        "id": "eSEa_7I86xdM",
        "colab_type": "code",
        "colab": {
          "base_uri": "https://localhost:8080/",
          "height": 755
        },
        "outputId": "80a4721f-4e2a-4ed4-92ed-ee52838ee777"
      },
      "source": [
        "fig = plt.figure(figsize=(12,12))\n",
        "ax = fig.add_subplot(111)\n",
        "im = ax.hexbin(plot[0], plot[1],C =sass , reduce_C_function=np.mean)\n",
        "plt.xlim(-3, 3)\n",
        "plt.ylim(-1, 10)\n",
        "fig.colorbar(im, ax=ax)\n",
        "plt.axis('square')"
      ],
      "execution_count": null,
      "outputs": [
        {
          "output_type": "execute_result",
          "data": {
            "text/plain": [
              "(-3.9009358167648314,\n",
              " 14.819742369651795,\n",
              " -4.274020087718964,\n",
              " 14.446658098697664)"
            ]
          },
          "metadata": {
            "tags": []
          },
          "execution_count": 66
        },
        {
          "output_type": "display_data",
          "data": {
            "image/png": "[encoded data removed]",
            "text/plain": [
              "<Figure size 864x864 with 2 Axes>"
            ]
          },
          "metadata": {
            "tags": [],
            "needs_background": "light"
          }
        }
      ]
    },
    {
      "cell_type": "code",
      "metadata": {
        "id": "5rPfpXDqbl9D",
        "colab_type": "code",
        "colab": {
          "base_uri": "https://localhost:8080/",
          "height": 35
        },
        "outputId": "046b0078-c4d4-4dc4-e083-4407d28ee322"
      },
      "source": [
        "import GANS.ic50pred as ic50pred\n",
        "ic50pred = ic50pred.IC50_MCA(vocab_size=VOCAB_SIZE, \n",
        "                    embedding_dim =EMBEDDING_DIM, num_genes =2128,\n",
        "                    hidden_dim = HIDDEN_DIM, max_len = MAX_LEN, \n",
        "                    latent_dim = LATENT_DIM)\n",
        "ic50pred.load_weights('ic50network_selfies_ic50g')"
      ],
      "execution_count": null,
      "outputs": [
        {
          "output_type": "execute_result",
          "data": {
            "text/plain": [
              "<tensorflow.python.training.tracking.util.CheckpointLoadStatus at 0x7f152a508a90>"
            ]
          },
          "metadata": {
            "tags": []
          },
          "execution_count": 70
        }
      ]
    },
    {
      "cell_type": "code",
      "metadata": {
        "id": "myTi5jnLBozW",
        "colab_type": "code",
        "colab": {}
      },
      "source": [
        "def smile_to_smiles_percentage2(z):\n",
        "  z_mean = z \n",
        "  zs = []\n",
        "  decode_attempts = 10\n",
        "  for i in range(decode_attempts):\n",
        "    #zs.append(z_mean)\n",
        "    #zs.append(tf.keras.layers.Lambda(smile_vae.encoder.sample, output_shape =(z_log_var.shape[1],))([z_mean,z_log_var]))\n",
        "    #zs.append(perturb_z(z_mean,noise_norm))\n",
        "    zs.append(perturb_z(z_mean,1.0))\n",
        "  zs = np.array(zs)\n",
        "  zs = zs.reshape((zs.shape[0],zs.shape[-1]))\n",
        "  #print(zs.shape)\n",
        "  x_decoded = []\n",
        "  #for z in zs:\n",
        "  if TRANSFORMER_DECODE:\n",
        "    x_decoded = transformer\n",
        "  decoded_smiles = []\n",
        "  for x_dec in x_decoded:\n",
        "    decoded_smiles.append(get_smiles_from_logits(tf.reshape(x_dec,[1,MAX_LEN,VOCAB_SIZE]),vocab_index))\n",
        "  actual_smiles =decoded_smiles\n",
        "  if DEEP == True:\n",
        "    actual_smiles = get_smiles_from_deep(decoded_smiles)\n",
        "    correct_smiles =[v for i,v in enumerate(actual_smiles) if v != None]\n",
        "  elif SELFIES:\n",
        "    actual_smiles = get_smiles_from_selfies(decoded_smiles)\n",
        "    correct_smiles =[v for i,v in enumerate(actual_smiles) if v != None]\n",
        "  else:\n",
        "    correct_smiles =[replace_halogens_inv(v) for i,v in enumerate(actual_smiles) if v != None]\n",
        "  num_samples = len(correct_smiles)\n",
        "  generator = MockGenerator(correct_smiles)\n",
        "  benchmark = UniquenessBenchmark(number_samples=num_samples)\n",
        "  \n",
        "  return benchmark.assess_model(generator).score*decode_attempts"
      ],
      "execution_count": null,
      "outputs": []
    },
    {
      "cell_type": "code",
      "metadata": {
        "id": "_K2yuhQyBsZ1",
        "colab_type": "code",
        "colab": {}
      },
      "source": [
        "def smile_to_smiles_percentage(smile_vae, z, decode_attempts = 500, noise_norm = 1.0 ):\n",
        "  z_mean = z \n",
        "  zs = []\n",
        "  for i in range(decode_attempts):\n",
        "    #zs.append(z_mean)\n",
        "    #zs.append(tf.keras.layers.Lambda(smile_vae.encoder.sample, output_shape =(z_log_var.shape[1],))([z_mean,z_log_var]))\n",
        "    #zs.append(perturb_z(z_mean,noise_norm))\n",
        "    zs.append(perturb_z(z_mean,noise_norm))\n",
        "  zs = np.array(zs)\n",
        "  zs = zs.reshape((zs.shape[0],zs.shape[-1]))\n",
        "  x_decoded = []\n",
        "  #for z in zs:\n",
        "  x_decoded = smile_vae.decoder(zs)\n",
        "  decoded_smiles = []\n",
        "  for x_dec in x_decoded:\n",
        "    decoded_smiles.append(get_smiles_from_logits(tf.reshape(x_dec,[1,MAX_LEN,VOCAB_SIZE]),vocab_index))\n",
        "  actual_smiles =decoded_smiles\n",
        "  if DEEP == True:\n",
        "    actual_smiles = get_smiles_from_deep(decoded_smiles)\n",
        "    correct_smiles =[v for i,v in enumerate(actual_smiles) if v != None]\n",
        "  elif SELFIES:\n",
        "    actual_smiles = get_smiles_from_selfies(decoded_smiles)\n",
        "    correct_smiles =[v for i,v in enumerate(actual_smiles) if v != None]\n",
        "  else:\n",
        "    correct_smiles =[replace_halogens_inv(v) for i,v in enumerate(actual_smiles) if v != None]\n",
        "  num_samples = len(correct_smiles)\n",
        "  print(correct_smiles)\n",
        " \n",
        "  correct_smiles_idx = []\n",
        "  indx = 0\n",
        "  for smiles in correct_smiles:\n",
        "    mol = rdkit.Chem.MolFromSmiles(smiles)\n",
        "    idx_v = smiles != '' and mol is not None and mol.GetNumAtoms() > 0\n",
        "    if idx_v:\n",
        "      correct_smiles_idx.append(indx)\n",
        "    indx+=1\n",
        "  print(correct_smiles_idx)\n",
        "  if len(correct_smiles_idx) > 0:\n",
        "    print(np.array(correct_smiles)[correct_smiles_idx])\n",
        "    correct_smiles =np.array(correct_smiles)[correct_smiles_idx]\n",
        "  generator = MockGenerator(correct_smiles)\n",
        "  benchmark = UniquenessBenchmark(number_samples=num_samples)\n",
        "  print(\"Percentage of unique Generated SMILES: \" + \\\n",
        "  \"{:.3f}\".format(benchmark.assess_model(generator).score))\n",
        "  print(\"Number of unique Generated SMILES: \" + \"{:.3f}\".format(len(correct_smiles)))\n",
        "  return correct_smiles"
      ],
      "execution_count": null,
      "outputs": []
    },
    {
      "cell_type": "code",
      "metadata": {
        "id": "DdaT3FX_BvSx",
        "colab_type": "code",
        "colab": {}
      },
      "source": [
        "## converts smiles to deep smiles \n",
        "def get_smiles_from_selfies(deep_list):\n",
        "  smiles = []\n",
        "  for deep in deep_list:\n",
        "    try:\n",
        "      smile = decoder(deep)\n",
        "    except:\n",
        "      smile = None\n",
        "    smiles.append(smile)\n",
        "  return smiles"
      ],
      "execution_count": null,
      "outputs": []
    },
    {
      "cell_type": "code",
      "metadata": {
        "id": "VdYBpjhUB27U",
        "colab_type": "code",
        "colab": {}
      },
      "source": [
        "def get_smiles_from_logits(logits,vocab_index, temperature =1.0):\n",
        "  logits = logits/temperature\n",
        "  #soft = tf.nn.softmax(logits, axis = -1)\n",
        "  #prediction  = # tf.argmax(soft, -1) \n",
        "  text_generated = []\n",
        "  for i in logits[0]:\n",
        "    j = np.argmax(i)#tf.random.categorical(tf.reshape(i,[1,len(i)]), num_samples=1)[0][0].numpy()\n",
        "    text_generated.append(vocab_index[j])\n",
        "  if '<EOS>' in text_generated:\n",
        "    eos_index = text_generated.index('<EOS>')\n",
        "    text_generated = text_generated[:eos_index]\n",
        "  else:\n",
        "    text_generated = ''\n",
        "  return (''.join(text_generated))"
      ],
      "execution_count": null,
      "outputs": []
    },
    {
      "cell_type": "code",
      "metadata": {
        "id": "jPVmhDTSBzLx",
        "colab_type": "code",
        "colab": {}
      },
      "source": [
        "def perturb_z( z, noise_norm, constant_norm=False):\n",
        "  if noise_norm > 0.0:\n",
        "    noise_vec = np.random.normal(0, 1, size=z.shape)\n",
        "    noise_vec = noise_vec / np.linalg.norm(noise_vec)\n",
        "    if constant_norm:\n",
        "      return z + (noise_norm * noise_vec)\n",
        "    else:\n",
        "      noise_amp = np.random.uniform(\n",
        "          0, noise_norm, size=(z.shape[0], 1))\n",
        "      return z + (noise_amp * noise_vec)\n",
        "  else:\n",
        "    return z"
      ],
      "execution_count": null,
      "outputs": []
    },
    {
      "cell_type": "code",
      "metadata": {
        "id": "vLGBzLIvdqA_",
        "colab_type": "code",
        "colab": {}
      },
      "source": [
        "## We will now perform Bayesian optimization in space for a given target\n",
        "## cell-line, histology within the latent space \n",
        "transformer = decoderTransformerLatent.Transformer(embedding_dim=384,embedding_dropout =DROP_OUT,max_len=MAX_LEN,\n",
        "                                                   num_heads = 6, num_layers = 6,\n",
        "                      vocab_size = VOCAB_SIZE,attention_dropout =DROP_OUT,d_hid=EMBEDDING_DIM *4,use_one_embedding_dropout=False)\n",
        "transformer.load_weights('decoding_deep_smiles_latent')"
      ],
      "execution_count": null,
      "outputs": []
    },
    {
      "cell_type": "code",
      "metadata": {
        "id": "Fc4Ghei-e0-m",
        "colab_type": "code",
        "colab": {}
      },
      "source": [
        "max_bounds = np.zeros(LATENT_DIM)\n",
        "min_bounds  = np.zeros(LATENT_DIM)\n",
        "for latent_dim in sampled_smiles:\n",
        "  for latent_val_index in range(len(latent_dim[0])):\n",
        "    max_bounds[latent_val_index] = max(max_bounds[latent_val_index],latent_dim[0][latent_val_index])\n",
        "    min_bounds[latent_val_index] = min(min_bounds[latent_val_index],latent_dim[0][latent_val_index])\n",
        "print(max_bounds)\n",
        "print(min_bounds)"
      ],
      "execution_count": null,
      "outputs": []
    },
    {
      "cell_type": "code",
      "metadata": {
        "id": "94CPJ58GgIBg",
        "colab_type": "code",
        "colab": {}
      },
      "source": [
        "bounds  =[(-10,10)]*LATENT_DIM \n",
        "## Create domain bounds ##\n",
        "domains = []\n",
        "for idx in range(len(bounds)):\n",
        "  domain =  {'name': 'latent'+str(idx), 'type': 'continuous'}\n",
        "  domain['domain'] = bounds[idx]     \n",
        "  domains.append(domain)      \n",
        "sampled_smiles = np.array(sampled_smiles).reshape(201,64)\n",
        "print(sampled_smiles.shape)\n",
        "sampled_predictions = -1*ic50pred(sampled_smiles,genes =sampled_gene_expressions.reshape(201,2128))\n",
        "print(sampled_predictions.shape)"
      ],
      "execution_count": null,
      "outputs": []
    },
    {
      "cell_type": "code",
      "metadata": {
        "id": "18npJgtxgdRH",
        "colab_type": "code",
        "colab": {}
      },
      "source": [
        "def obj_function(z):\n",
        "  ##'SHP-77' gene-expression \n",
        "\n",
        "  ##  Contrict objective function \n",
        "  x = 0\n",
        " ''' x = smile_to_smiles_percentage2(z)\n",
        "  print('OBJ RUN:' + str(x))\n",
        "  if (x < 0.05):\n",
        "    x = 1000\n",
        "  else:\n",
        "    x = 0 '''\n",
        "  val = ic50pred(encoded_smiles = z, genes = sampled_gene_expressions[0].reshape(1,2128)).numpy()[0][0] - x\n",
        "  print(val)\n",
        "  return -1*val"
      ],
      "execution_count": null,
      "outputs": []
    },
    {
      "cell_type": "code",
      "metadata": {
        "id": "O2z7ubVgjdY_",
        "colab_type": "code",
        "colab": {}
      },
      "source": [
        "UBO = BayesianOptimization(f=obj_function, X =sampled_smiles,Y = sampled_predictions,\n",
        "                           domain=domains,model_type='sparseGP',batch_size=1,initial_design_numdata=0)\n",
        "MAX_ITER = 200\n",
        "UBO.run_optimization(max_iter = MAX_ITER)"
      ],
      "execution_count": null,
      "outputs": []
    },
    {
      "cell_type": "code",
      "metadata": {
        "id": "zEoB3D3pUR7V",
        "colab_type": "code",
        "colab": {
          "base_uri": "https://localhost:8080/",
          "height": 54
        },
        "outputId": "3ccf3912-363e-41fd-d05a-5416f0b6f7b9"
      },
      "source": [
        "## Get input and output of the optimizations\n",
        "ins = np.array(UBO.X).tolist()\n",
        "print(len(ins))\n",
        "outs = np.array(UBO.Y *-1).tolist()\n",
        "print(len(outs))\n",
        "outs, ins = (list(t) for t in zip(*sorted(zip(outs, ins))))"
      ],
      "execution_count": null,
      "outputs": [
        {
          "output_type": "stream",
          "text": [
            "211\n",
            "211\n"
          ],
          "name": "stdout"
        }
      ]
    },
    {
      "cell_type": "code",
      "metadata": {
        "id": "9LNl2J-ZigmP",
        "colab_type": "code",
        "colab": {
          "base_uri": "https://localhost:8080/",
          "height": 235
        },
        "outputId": "8d47fdde-5824-4fec-f1a4-5741a23d2f37"
      },
      "source": [
        "print(\"Value of z that minimises the objective:\" + str(UBO.x_opt)) \n",
        "print(\"Maximum value of the objective: \"+str(-UBO.fx_opt))     \n",
        "UBO.plot_convergence()"
      ],
      "execution_count": null,
      "outputs": [
        {
          "output_type": "stream",
          "text": [
            "Value of z that minimises the objective:[ 4.52414861  0.43723325 -6.34376298 -0.44273558 -8.6569322  -8.09698771\n",
            " -7.26380562 -8.77301786 -5.17164693 -4.64994393 -6.05424085 -3.61597965\n",
            " -3.66063285 -1.53373003  1.88184657  5.94065799 -9.31803028  0.79524553\n",
            "  9.57735277 -5.75089538  8.40659084 -5.6766505   9.88388938  9.50709318\n",
            " -0.87086241 -8.32472635  8.45774273  8.29417668 -5.17567719  6.77251269\n",
            "  3.52749186  0.85914155  5.99042056 -7.35440359 -7.75918364 -4.11621245\n",
            " -9.5653793   9.06703072 -8.96982825  3.27768829  2.62619871 -0.5244449\n",
            "  5.67453692  4.33305898 -9.40820111  4.31574483 -8.62889117 -6.84702123\n",
            "  7.27362213  7.65370367 -7.45640788 -3.91667875 -1.33406709  1.47111051\n",
            " -1.86503629 -4.36322293 -8.98795698 -4.16941203 -4.33696736  4.0180725\n",
            "  2.6010192   2.12642501  5.61335149 -1.77381849]\n",
            "Maximum value of the objective: 0.9328030943870544\n"
          ],
          "name": "stdout"
        }
      ]
    },
    {
      "cell_type": "code",
      "metadata": {
        "id": "7Vw1DLyrk_Qk",
        "colab_type": "code",
        "colab": {}
      },
      "source": [
        "x_decoded = smile_vae.decoder(UBO.x_opt.reshape(1,64))\n",
        "print(x_decoded)\n",
        "out_smiles = get_smiles_from_logits(x_decoded,vocab_index)\n",
        "inp = np.array(ins[-3]).reshape(1,LATENT_DIM)\n",
        "print(inp.shape)\n",
        "out_smiles = smile_to_smiles_percentage(smile_vae, inp,decode_attempts = 100,noise_norm = 10.0 )"
      ],
      "execution_count": null,
      "outputs": []
    }
  ]
}